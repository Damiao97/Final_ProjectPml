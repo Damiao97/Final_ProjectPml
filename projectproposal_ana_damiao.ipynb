{
 "cells": [
  {
   "cell_type": "markdown",
   "metadata": {},
   "source": [
    "Team Members:\n",
    "\n",
    "Ana Moreira 25458\n",
    "\n",
    "\n",
    "\n",
    "Project Title: Predicting Air Quality Index Using Machine Learning\n",
    "Project Category: \n",
    "\n",
    "Time Series Analysis\n",
    "\n",
    "Forecasting: Estimating future values based on historical patterns.\n",
    "Pattern Identification: Detecting trends, cycles, and seasonality in the data.\n",
    "Modeling: Developing mathematical or statistical models that represent the time series.\n",
    "Impact Analysis: Assessing how certain events or changes affect the time series."
   ]
  },
  {
   "cell_type": "markdown",
   "metadata": {},
   "source": [
    "Problem Statement: The aim of this project is to predict the Air Quality Index (AQI) in a specific location based on historical data. This is an important problem because poor air quality can have significant health impacts, and predicting AQI can help individuals and authorities take preventive measures.\n",
    "\n",
    "Challenges: The main challenges of this project include dealing with time series data, handling missing values, and managing the effects of seasonality and trend in the data.\n",
    "\n",
    "Dataset: We will use the U.S. Environmental Protection Agency's Air Quality System (AQS) data - https://www.epa.gov/outdoor-air-quality-data - which provides hourly air quality and meteorological data. We plan to focus on a specific location for our analysis.\n",
    "\n",
    "Method or Algorithm: We plan to use time series forecasting methods such as ARIMA, SARIMA, and possibly machine learning methods like LSTM (Long Short Term Memory) networks, which are particularly good for time series prediction.\n",
    "\n",
    "Evaluation: We will split the dataset into a training set and a test set. The models will be trained on the training set and evaluated on the test set. We will use metrics such as Mean Absolute Error (MAE), Mean Squared Error (MSE), and R-squared to evaluate the performance of the models. We will also use cross-validation to ensure that our model generalizes well to unseen data.\n",
    "\n",
    "Focus on Inhalable Particles (PM10 and PM2.5):\n",
    "\n",
    "Inhalable particles, specifically PM10 and PM2.5, are crucial components of the AQI. These fine particles can penetrate deeply into the lungs and cause respiratory and cardiovascular problems. By accurately predicting the levels of PM10 and PM2.5, we can provide more precise AQI predictions and better inform the public and authorities about potential health risks.\n"
   ]
  },
  {
   "cell_type": "markdown",
   "metadata": {},
   "source": [
    "This project proposal provides a clear plan for predicting the Air Quality Index using historical data and advanced machine learning techniques. By focusing on inhalable particles, we aim to address significant health concerns and enhance the accuracy of AQI predictions. "
   ]
  }
 ],
 "metadata": {
  "kernelspec": {
   "display_name": "Python 3",
   "language": "python",
   "name": "python3"
  },
  "language_info": {
   "codemirror_mode": {
    "name": "ipython",
    "version": 3
   },
   "file_extension": ".py",
   "mimetype": "text/x-python",
   "name": "python",
   "nbconvert_exporter": "python",
   "pygments_lexer": "ipython3",
   "version": "3.11.9"
  }
 },
 "nbformat": 4,
 "nbformat_minor": 2
}
